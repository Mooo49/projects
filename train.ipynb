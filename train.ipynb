{
  "nbformat": 4,
  "nbformat_minor": 0,
  "metadata": {
    "colab": {
      "provenance": [],
      "authorship_tag": "ABX9TyOIxfl+SN4DcbjuuUdw087L",
      "include_colab_link": true
    },
    "kernelspec": {
      "name": "python3",
      "display_name": "Python 3"
    },
    "language_info": {
      "name": "python"
    }
  },
  "cells": [
    {
      "cell_type": "markdown",
      "metadata": {
        "id": "view-in-github",
        "colab_type": "text"
      },
      "source": [
        "<a href=\"https://colab.research.google.com/github/Mooo49/projects/blob/main/train.ipynb\" target=\"_parent\"><img src=\"https://colab.research.google.com/assets/colab-badge.svg\" alt=\"Open In Colab\"/></a>"
      ]
    },
    {
      "cell_type": "code",
      "execution_count": 1,
      "metadata": {
        "id": "666XkJuVpul4"
      },
      "outputs": [],
      "source": [
        "import pandas as pd\n",
        "import matplotlib.pyplot as plt\n",
        "import tensorflow as tf\n"
      ]
    },
    {
      "cell_type": "code",
      "source": [
        "from tensorflow.keras.datasets import mnist\n",
        "from tensorflow.keras.layers import Activation,Dropout,Dense\n",
        "\n"
      ],
      "metadata": {
        "id": "QZNWGaJxp7M9"
      },
      "execution_count": 2,
      "outputs": []
    },
    {
      "cell_type": "code",
      "source": [
        "(x_train,y_train),(x_test,y_test)=mnist.load_data()"
      ],
      "metadata": {
        "id": "BZCDLROsqp22"
      },
      "execution_count": 52,
      "outputs": []
    },
    {
      "cell_type": "code",
      "source": [
        "x_train.shape"
      ],
      "metadata": {
        "colab": {
          "base_uri": "https://localhost:8080/"
        },
        "id": "r6bEQDInq73N",
        "outputId": "a5ec84ab-8662-476f-c9a3-12b24a6a00f9"
      },
      "execution_count": 26,
      "outputs": [
        {
          "output_type": "execute_result",
          "data": {
            "text/plain": [
              "(60000, 28, 28)"
            ]
          },
          "metadata": {},
          "execution_count": 26
        }
      ]
    },
    {
      "cell_type": "code",
      "source": [
        "x_train=x_train.reshape(60000,784)\n",
        "x_test=x_test.reshape(10000,784)\n",
        "x_train=x_train.astype('float32')\n",
        "x_test=x_test.astype('float32')\n",
        "\n",
        "x_train /= 255\n",
        "x_test /= 255"
      ],
      "metadata": {
        "id": "B_3Aovh1q_pW"
      },
      "execution_count": 53,
      "outputs": []
    },
    {
      "cell_type": "code",
      "source": [
        "x_test.shape"
      ],
      "metadata": {
        "colab": {
          "base_uri": "https://localhost:8080/"
        },
        "id": "dTBTOztjr_hk",
        "outputId": "ef93c43f-ec1b-41d3-cf99-2a712a304c69"
      },
      "execution_count": 37,
      "outputs": [
        {
          "output_type": "execute_result",
          "data": {
            "text/plain": [
              "(10000, 784)"
            ]
          },
          "metadata": {},
          "execution_count": 37
        }
      ]
    },
    {
      "cell_type": "code",
      "source": [
        "y_train"
      ],
      "metadata": {
        "colab": {
          "base_uri": "https://localhost:8080/"
        },
        "id": "Tkp7jrU6sg0v",
        "outputId": "c9a3266a-1e8c-42a2-97d1-f23ff9b86f5b"
      },
      "execution_count": 33,
      "outputs": [
        {
          "output_type": "execute_result",
          "data": {
            "text/plain": [
              "array([5, 0, 4, ..., 5, 6, 8], dtype=uint8)"
            ]
          },
          "metadata": {},
          "execution_count": 33
        }
      ]
    },
    {
      "cell_type": "code",
      "source": [
        "print('before :{}'.format(y_train.shape))\n",
        "y_train=tf.keras.utils.to_categorical(y_train,10)\n",
        "y_test=tf.keras.utils.to_categorical(y_test,10)\n",
        "print('after :{}'.format(y_test.shape))"
      ],
      "metadata": {
        "colab": {
          "base_uri": "https://localhost:8080/"
        },
        "id": "gT_-k26GvOFE",
        "outputId": "02eee8ff-c071-43bb-d768-0324382026a9"
      },
      "execution_count": 54,
      "outputs": [
        {
          "output_type": "stream",
          "name": "stdout",
          "text": [
            "before :(60000,)\n",
            "after :(10000, 10)\n"
          ]
        }
      ]
    },
    {
      "cell_type": "code",
      "source": [
        "from tensorflow.keras.models import Sequential\n"
      ],
      "metadata": {
        "id": "3Wo6KL2eswfF"
      },
      "execution_count": 40,
      "outputs": []
    },
    {
      "cell_type": "code",
      "source": [
        "\n",
        "model=Sequential()\n",
        "\n",
        "model.add(Dense(512,input_shape=(784,)))\n",
        "model.add(Activation('relu'))\n",
        "model.add(Dropout(0.2))\n",
        "\n",
        "model.add(Dense(512))\n",
        "model.add(Activation('relu'))\n",
        "model.add(Dropout(0.2))\n",
        "\n",
        "model.add(Dense(10))\n",
        "model.add(Activation('softmax'))"
      ],
      "metadata": {
        "id": "0BgBl9EgwiXR"
      },
      "execution_count": 55,
      "outputs": []
    },
    {
      "cell_type": "code",
      "source": [
        "model.compile(loss='categorical_crossentropy',metrics=['accuracy'],optimizer='adam')"
      ],
      "metadata": {
        "id": "7YoDLWajx9Gc"
      },
      "execution_count": 56,
      "outputs": []
    },
    {
      "cell_type": "code",
      "source": [
        "M=model.fit(x_train,y_train,batch_size=120,epochs=10,validation_data=(x_test,y_test),verbose=2)"
      ],
      "metadata": {
        "colab": {
          "base_uri": "https://localhost:8080/"
        },
        "id": "2BO3sCuEzS7U",
        "outputId": "91064679-ee55-419e-d969-aea4c9771a7d"
      },
      "execution_count": 57,
      "outputs": [
        {
          "output_type": "stream",
          "name": "stdout",
          "text": [
            "Epoch 1/10\n",
            "500/500 - 11s - loss: 0.2484 - accuracy: 0.9252 - val_loss: 0.1043 - val_accuracy: 0.9667 - 11s/epoch - 22ms/step\n",
            "Epoch 2/10\n",
            "500/500 - 8s - loss: 0.0982 - accuracy: 0.9697 - val_loss: 0.0789 - val_accuracy: 0.9762 - 8s/epoch - 17ms/step\n",
            "Epoch 3/10\n",
            "500/500 - 10s - loss: 0.0701 - accuracy: 0.9776 - val_loss: 0.0698 - val_accuracy: 0.9772 - 10s/epoch - 19ms/step\n",
            "Epoch 4/10\n",
            "500/500 - 10s - loss: 0.0567 - accuracy: 0.9818 - val_loss: 0.0631 - val_accuracy: 0.9794 - 10s/epoch - 20ms/step\n",
            "Epoch 5/10\n",
            "500/500 - 10s - loss: 0.0444 - accuracy: 0.9854 - val_loss: 0.0720 - val_accuracy: 0.9782 - 10s/epoch - 19ms/step\n",
            "Epoch 6/10\n",
            "500/500 - 9s - loss: 0.0386 - accuracy: 0.9872 - val_loss: 0.0665 - val_accuracy: 0.9802 - 9s/epoch - 17ms/step\n",
            "Epoch 7/10\n",
            "500/500 - 10s - loss: 0.0333 - accuracy: 0.9888 - val_loss: 0.0672 - val_accuracy: 0.9810 - 10s/epoch - 19ms/step\n",
            "Epoch 8/10\n",
            "500/500 - 9s - loss: 0.0295 - accuracy: 0.9902 - val_loss: 0.0681 - val_accuracy: 0.9817 - 9s/epoch - 19ms/step\n",
            "Epoch 9/10\n",
            "500/500 - 9s - loss: 0.0285 - accuracy: 0.9905 - val_loss: 0.0713 - val_accuracy: 0.9805 - 9s/epoch - 17ms/step\n",
            "Epoch 10/10\n",
            "500/500 - 9s - loss: 0.0239 - accuracy: 0.9924 - val_loss: 0.0757 - val_accuracy: 0.9808 - 9s/epoch - 19ms/step\n"
          ]
        }
      ]
    },
    {
      "cell_type": "code",
      "source": [
        "plt.plot(M.history['accuracy'],label='accuracy')\n",
        "plt.plot(M.history['val_accuracy'],label='val_accuracy')\n",
        "\n",
        "plt.title('Accuracy Score',color='blue',size=20)\n",
        "plt.xlabel('epochs')\n",
        "plt.ylabel('accuracy')\n",
        "plt.legend(loc='lower right')\n",
        "plt.tight_layout()"
      ],
      "metadata": {
        "colab": {
          "base_uri": "https://localhost:8080/",
          "height": 487
        },
        "id": "YVIufRHYz-B4",
        "outputId": "9045ef78-c059-49f9-a181-4967f287aa81"
      },
      "execution_count": 67,
      "outputs": [
        {
          "output_type": "display_data",
          "data": {
            "text/plain": [
              "<Figure size 640x480 with 1 Axes>"
            ],
            "image/png": "[encoded data removed]"
          },
          "metadata": {}
        }
      ]
    },
    {
      "cell_type": "code",
      "source": [
        "loss_and_accuracy=model.evaluate(x_test,y_test)\n",
        "print('test loss :{}'.format(loss_and_accuracy[0]))\n",
        "print('test accuracy :{}'.format(loss_and_accuracy[1]))"
      ],
      "metadata": {
        "colab": {
          "base_uri": "https://localhost:8080/"
        },
        "id": "6n5z5uH-16jD",
        "outputId": "17eaeff7-dca6-45dd-e898-188e882aab4c"
      },
      "execution_count": 68,
      "outputs": [
        {
          "output_type": "stream",
          "name": "stdout",
          "text": [
            "313/313 [==============================] - 1s 4ms/step - loss: 0.0757 - accuracy: 0.9808\n",
            "test loss :0.0757397785782814\n",
            "test accuracy :0.9807999730110168\n"
          ]
        }
      ]
    },
    {
      "cell_type": "code",
      "source": [
        "prediction=model.predict(x_test)\n"
      ],
      "metadata": {
        "colab": {
          "base_uri": "https://localhost:8080/"
        },
        "id": "DP23h1lt4Fpf",
        "outputId": "01751ef7-edd0-41c4-edd3-5d5987aec150"
      },
      "execution_count": 69,
      "outputs": [
        {
          "output_type": "stream",
          "name": "stdout",
          "text": [
            "313/313 [==============================] - 2s 4ms/step\n"
          ]
        }
      ]
    },
    {
      "cell_type": "code",
      "source": [
        "y_test[3]\n"
      ],
      "metadata": {
        "colab": {
          "base_uri": "https://localhost:8080/"
        },
        "id": "y-MJwHD34oPz",
        "outputId": "7807517c-1e05-45ec-c4f4-dce804e5b079"
      },
      "execution_count": 71,
      "outputs": [
        {
          "output_type": "execute_result",
          "data": {
            "text/plain": [
              "array([1., 0., 0., 0., 0., 0., 0., 0., 0., 0.], dtype=float32)"
            ]
          },
          "metadata": {},
          "execution_count": 71
        }
      ]
    },
    {
      "cell_type": "code",
      "source": [
        "import numpy as np\n",
        "prediction=np.argmax(prediction,axis=-1)"
      ],
      "metadata": {
        "id": "QOXvq-od4tQ4"
      },
      "execution_count": 73,
      "outputs": []
    },
    {
      "cell_type": "code",
      "source": [
        "prediction"
      ],
      "metadata": {
        "colab": {
          "base_uri": "https://localhost:8080/"
        },
        "id": "1i8XAVlG44Ue",
        "outputId": "d31547bd-11a1-4cac-ff6e-69965aa6fee1"
      },
      "execution_count": 74,
      "outputs": [
        {
          "output_type": "execute_result",
          "data": {
            "text/plain": [
              "array([7, 2, 1, ..., 4, 5, 6])"
            ]
          },
          "metadata": {},
          "execution_count": 74
        }
      ]
    },
    {
      "cell_type": "code",
      "source": [
        "print(prediction[20])\n",
        "plt.imshow(x_test[20].reshape(28,28),cmap='gray')\n"
      ],
      "metadata": {
        "colab": {
          "base_uri": "https://localhost:8080/",
          "height": 465
        },
        "id": "-_U3t2U95mzt",
        "outputId": "4d679791-182d-46cd-e696-f7ebe14d2726"
      },
      "execution_count": 77,
      "outputs": [
        {
          "output_type": "stream",
          "name": "stdout",
          "text": [
            "9\n"
          ]
        },
        {
          "output_type": "execute_result",
          "data": {
            "text/plain": [
              "<matplotlib.image.AxesImage at 0x7fc290ac2770>"
            ]
          },
          "metadata": {},
          "execution_count": 77
        },
        {
          "output_type": "display_data",
          "data": {
            "text/plain": [
              "<Figure size 640x480 with 1 Axes>"
            ],
            "image/png": "[encoded data removed]"
          },
          "metadata": {}
        }
      ]
    },
    {
      "cell_type": "code",
      "source": [],
      "metadata": {
        "id": "FUl2BdhO57uk"
      },
      "execution_count": null,
      "outputs": []
    }
  ]
}